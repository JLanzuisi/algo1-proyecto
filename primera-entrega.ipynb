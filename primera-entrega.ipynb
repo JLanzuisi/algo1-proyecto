{
 "cells": [
  {
   "source": [
    "# Sobre este archivo\n",
    "\n",
    "La primera entrega pretende ser principalmente exploratoria,\n",
    "quizás nada del código (si es que hay código) que aparezca \n",
    "aquí llegue a la versión final.\n",
    "\n",
    "La idea es investigar como se podrían hacer las \n",
    "funciones principales.\n",
    "Conviene entonces intentar separa el proyecto.\n",
    "Una esquema preliminar es el siguiente.\n",
    "\n",
    "## ¿Qué hay que hacer?\n",
    "\n",
    "Usar algoritmos genéticos para aproximar una imagen usando figuras.\n",
    "Inicialmente estas figuras son triángulos, quizás esto cambie.\n",
    "\n",
    "Se pueden ver los siguientes pasos necesarios (la librería `cv` \n",
    "proviene de `cv2` de `numpy`, ver sección siguiente):\n",
    "\n",
    "1. Leer la imagen del disco y cargarla en python. Función: `cv.imread`\n",
    "1. Crear una lista inicial de triángulos, de forma aleatoria\n",
    "    1. Los triángulos deben estar rellenos de color.\n",
    "       Se deberían tomar los colores de la imagen original\n",
    "       y usar solo esos.\n",
    "         1. Obtener colores de la imagen original.\n",
    "            Hacer una lista con los colores de cada pixel,\n",
    "            luego usar `numpy.unique` para quitarme\n",
    "            los repetidos. [Source](https://stackoverflow.com/questions/51705187/list-of-all-colors-in-an-image-using-opencv-and-python)\n",
    "         1. Dibujar triángulos. Función: `cv.polylines`\n",
    "    1. Los triángulos deberían llenar un rectángulo del tamaño\n",
    "       de las dimensiones de la imagen.\n",
    "1. Dibujar la lista de triángulos en una imagen de las mismas\n",
    "   dimensiones que la imagen original.\n",
    "1. Comparar que tan diferentes son las imágenes \n",
    "   (pixel a pixel?)\n",
    "   1. Acceder al valor de pixel de las imágenes con \n",
    "      `img.item` \n",
    "1. Pasar a la siguiente generación, y volver a dibujar y          comparar; así sucesivamente hasta que la diferencia este\n",
    "   por debajo de un valor R.\n",
    "1. Ir guardando que tanto difieren y hacer un grafico al final.\n",
    "   Esta diferencia debería de converger a cero.\n",
    "\n",
    "# Librerías de python útiles\n",
    "\n",
    "+ [Open source computer vision](https://docs.opencv.org/master/index.html), de numpy. Con esto se puede:\n",
    "   - Leer una imagen en python del disco\n",
    "   - Dibujar polígonos e incluso círculos y elipses. Links:\n",
    "      + (https://docs.opencv.org/master/dc/da5/tutorial_py_drawing_functions.html)\n",
    "   - Colorear los polígonos dando una tripleta RGB\n",
    "+ [Numpy](). Con esto se puede:\n",
    "   - Graficar si el programa converge a la imagen o no"
   ],
   "cell_type": "markdown",
   "metadata": {}
  }
 ],
 "metadata": {
  "kernelspec": {
   "display_name": "Python 3",
   "language": "python",
   "name": "python3"
  },
  "language_info": {
   "codemirror_mode": {
    "name": "ipython",
    "version": 3
   },
   "file_extension": ".py",
   "mimetype": "text/x-python",
   "name": "python",
   "nbconvert_exporter": "python",
   "pygments_lexer": "ipython3",
   "version": "3.8.5-final"
  }
 },
 "nbformat": 4,
 "nbformat_minor": 4
}