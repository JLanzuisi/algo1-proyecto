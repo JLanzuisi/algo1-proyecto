{
 "cells": [
  {
   "cell_type": "markdown",
   "metadata": {},
   "source": [
    "# Sobre este archivo\n",
    "\n",
    "La primera entrega pretende ser principalmente exploratoria,\n",
    "quizás nada del código (si es que hay código) que aparezca \n",
    "aquí llegue a la versión final.\n",
    "\n",
    "La idea es investigar como se podrían hacer las \n",
    "funciones principales.\n",
    "Conviene entonces intentar separa el proyecto.\n",
    "Una esquema preliminar es el siguiente.\n",
    "\n",
    "## ¿Qué hay que hacer?\n",
    "\n",
    "Usar algoritmos genéticos para aproximar una imagen usando figuras.\n",
    "Inicialmente estas figuras son triángulos, quizás esto cambie.\n",
    "\n",
    "Se pueden ver los siguientes pasos necesarios (la librería `cv` \n",
    "es `cv2` de `numpy`, ver sección siguiente):\n",
    "\n",
    "1. Leer la imagen del disco y cargarla en python. Función: `cv.imread`\n",
    "1. Crear una lista inicial de triángulos, de forma aleatoria\n",
    "    1. Los triángulos deben estar rellenos de color.\n",
    "       Se deberían tomar los colores de la imagen original\n",
    "       y usar solo esos.\n",
    "         1. Obtener colores de la imagen original.\n",
    "            Hacer una lista con los colores de cada pixel,\n",
    "            luego usar `numpy.unique` para quitarme\n",
    "            los repetidos. [Source](https://stackoverflow.com/questions/51705187/list-of-all-colors-in-an-image-using-opencv-and-python)\n",
    "         1. Dibujar triángulos. Función: `cv.polylines`\n",
    "    1. Los triángulos deberían llenar un rectángulo del tamaño\n",
    "       de las dimensiones de la imagen.\n",
    "1. Dibujar la lista de triángulos en una imagen de las mismas\n",
    "   dimensiones que la imagen original.\n",
    "1. Comparar que tan diferentes son las imágenes \n",
    "   (pixel a pixel?)\n",
    "   1. Acceder al valor de pixel de las imágenes con \n",
    "      `img.item` \n",
    "1. Pasar a la siguiente generación, y volver a dibujar y          comparar; así sucesivamente hasta que la diferencia este\n",
    "   por debajo de un valor R.\n",
    "1. Ir guardando que tanto difieren y hacer un grafico al final.\n",
    "   Esta diferencia debería de converger a cero.\n",
    "\n",
    "# Librerías de python útiles\n",
    "\n",
    "+ [Open source computer vision](https://docs.opencv.org/master/index.html). Con esto se puede:\n",
    "   - Leer una imagen en python del disco\n",
    "   - Dibujar polígonos e incluso círculos y elipses. Links:\n",
    "      + (https://docs.opencv.org/master/dc/da5/tutorial_py_drawing_functions.html)\n",
    "   - Colorear los polígonos dando una tripleta RGB\n",
    "+ [Numpy](). Con esto se puede (además de `cv2`):\n",
    "   - Graficar si el programa converge a la imagen o no"
   ]
  },
  {
   "cell_type": "markdown",
   "metadata": {},
   "source": [
    "# Pruebas\n",
    "Por ahora las pruebas dependerán bastante de la imágen específica de *Freedo*\n",
    "que estoy usando, es decir, las dimensiones de la imágen por ejemplo\n",
    "tendrían que leerse de forma dinámica de la imágen suministrada.\n",
    "\n",
    "Como esto hay muchas otras cosas que cambiarán antes de la versión final.\n",
    "\n",
    "No estan implementadas aun las funciones como tal,\n",
    "el codigo que existe si puede adaptarse a definiciones de funciones mas adelante."
   ]
  },
  {
   "cell_type": "markdown",
   "metadata": {},
   "source": [
    "## Leer la imágen de un url o archivo local y mostrarla"
   ]
  },
  {
   "cell_type": "code",
   "execution_count": null,
   "metadata": {},
   "outputs": [],
   "source": [
    "# https://stackoverflow.com/questions/21061814/how-can-i-read-an-image-from-an-internet-url-in-python-cv2-scikit-image-and-mah\n",
    "from skimage import io\n",
    "import cv2\n",
    "# Dimensions 209x204\n",
    "img = io.imread(\"./Freedo_improved.jpeg\")\n",
    "#cv2.imshow(\"window\",img)\n",
    "#cv2.waitKey(0)"
   ]
  },
  {
   "cell_type": "markdown",
   "metadata": {},
   "source": [
    "## Leer valores de la imagen a evolucionar\n",
    "la idea es tomar los colores de la imagen a evolucionar, esto aún no funciona\n",
    "correctamente."
   ]
  },
  {
   "cell_type": "code",
   "execution_count": null,
   "metadata": {},
   "outputs": [],
   "source": [
    "# https://stackoverflow.com/questions/51705187/list-of-all-colors-in-an-image-using-opencv-and-python\n",
    "from skimage import io\n",
    "import numpy as np\n",
    "import cv2\n",
    "# Dimensions 209x204\n",
    "img = io.imread(\"./Freedo_improved.jpeg\")\n",
    "img = cv2.cvtColor(img, cv2.COLOR_BGR2RGB)\n",
    "\n",
    "all_rgb_codes = img.reshape(-1, img.shape[-1])\n",
    "unique_rgbs = np.unique(all_rgb_codes, axis=0)\n",
    "\n",
    "print(unique_rgbs)"
   ]
  },
  {
   "cell_type": "markdown",
   "metadata": {},
   "source": [
    "## Unas imagenes a partir de una lista de poligonos\n",
    "Los polígonos pueden tener cualquier color dado en una tripleta RGB.\n",
    "Vale la pena transparencia?\n",
    "\n",
    "Este puede servir como el primer ADN, donde los individuos se generan al azar.\n",
    "Tambien es la primera población, pues la lista imagearr es una lista de imagenes\n",
    "con triangulos dibujados."
   ]
  },
  {
   "cell_type": "code",
   "execution_count": null,
   "metadata": {},
   "outputs": [],
   "source": [
    "# https://docs.opencv.org/master/dc/da5/tutorial_py_drawing_functions.html\n",
    "import numpy as np\n",
    "import random\n",
    "import cv2\n",
    "\n",
    "N = 15 # N triangles\n",
    "P = 25 # Population\n",
    "X,Y = 204,209 # picture dimensions\n",
    "\n",
    "imagearr = []\n",
    "for i in range (0,P):\n",
    "    image = np.ones((X,Y,3), np.uint8)*255 # Blank squared image\n",
    "    imagearr = imagearr + [image] # Fill the list with P blank images\n",
    "\n",
    "pts = []\n",
    "# This loop randomly generates the triangles and draws them\n",
    "for k in range (0,P):\n",
    "    for i in range(0,N):\n",
    "        pts =  np.array(\n",
    "                [[random.randint(0,X),random.randint(0,Y)],\n",
    "                 [random.randint(0,X),random.randint(0,Y)],\n",
    "                 [random.randint(0,X),random.randint(0,Y)]],\n",
    "                np.int32\n",
    "        )\n",
    "        pts = pts.reshape((-1,1,2))\n",
    "        cv2.fillPoly(\n",
    "            imagearr[k], # Draw to the k blank image\n",
    "            [pts],\n",
    "            (random.randint(0,255),random.randint(0,255),random.randint(0,255)) # Random colors for triangles\n",
    "        )\n",
    "\n",
    "#cv2.imshow(\"window2\",imagearr[15])\n",
    "#cv2.waitKey(0)\n",
    "#cv2.destroyWindow('window2')\n",
    "#cv2.waitKey(1)"
   ]
  },
  {
   "cell_type": "markdown",
   "metadata": {},
   "source": [
    "## Comparar imágenes\n",
    "La idea es utilizar la función `cv2.subtract` para restar las imágenes.\n",
    "Pongamos el resultado de la resta en una variable `diff`.\n",
    "Luego, se puede usar `np.sum` para sumar los elementos del array `diff`.\n",
    "Si esta suma es cero, quiere decir que las imágenes son iguales.\n",
    "Por lo que buscamos que el resultado de esta suma sea la menor posible."
   ]
  },
  {
   "cell_type": "code",
   "execution_count": null,
   "metadata": {},
   "outputs": [],
   "source": [
    "# https://medium.com/@jineshjohn/image-compare-using-opencv-python-ac9560be2d96\n",
    "difflist = []\n",
    "for i in range(0,P):\n",
    "    diff = np.sum(cv2.subtract(img, imagearr[i]))\n",
    "    difflist += [diff]\n",
    "min(difflist)"
   ]
  },
  {
   "cell_type": "markdown",
   "metadata": {},
   "source": [
    "La variable `diff` puede irse guardando para luego graficarla y ver si\n",
    "el algoritmo esta funcionando o no.\n",
    "`min(difflist)` da el más parecido de esta generación, lo cual seguramente sea útil."
   ]
  },
  {
   "cell_type": "markdown",
   "metadata": {},
   "source": [
    "## Cruce y mutaciones\n",
    "Para hacer el cruce de dos individuos podemos tomar mitad de los triangulos de uno\n",
    "y mitad de los triangulos del otro, y producir un nuevo individuo. La variable `mutated` indicará, una vez la función este bien construida, si hay que hacer alguna mutación al hijo.\n",
    "\n",
    "Los hijos deben heredar parte de los triángulos y los padre y, además, el color de dichos triángulos."
   ]
  },
  {
   "cell_type": "code",
   "execution_count": null,
   "metadata": {},
   "outputs": [],
   "source": [
    "import random\n",
    "\n",
    "X,Y = 204,209\n",
    "\n",
    "N = 10\n",
    "\n",
    "indv1 = []\n",
    "indv2 = []\n",
    "\n",
    "for i in range (0,N): # Individuals with 10 triangles\n",
    "    indv1 += [\n",
    "        [\n",
    "            [random.randint(0,X),random.randint(0,Y)],\n",
    "            [random.randint(0,X),random.randint(0,Y)],\n",
    "            [random.randint(0,X),random.randint(0,Y)],\n",
    "            [random.randint(0,255),random.randint(0,255),random.randint(0,255)], # Color\n",
    "        ]\n",
    "    ]\n",
    "    indv2 += [\n",
    "        [\n",
    "            [random.randint(0,X),random.randint(0,Y)],\n",
    "            [random.randint(0,X),random.randint(0,Y)],\n",
    "            [random.randint(0,X),random.randint(0,Y)],\n",
    "            [random.randint(0,255),random.randint(0,255),random.randint(0,255)], # Color\n",
    "        ]\n",
    "    ]\n",
    "    \n",
    "print(indv1)\n",
    "print()\n",
    "print(indv2)\n",
    "print()\n",
    "\n",
    "son = []\n",
    "for i in range (0,N):\n",
    "    if i < N//2:\n",
    "        son += [indv1[i]]\n",
    "    else:\n",
    "        son += [indv2[i]]\n",
    "\n",
    "print(son)\n",
    "\n",
    "mutated = False\n",
    "if random.randint(0,100) == 1: # event with 1% chance of ocurring\n",
    "    mutated = True\n",
    "\n",
    "print(mutated)\n",
    "# Returns: son,mutated"
   ]
  },
  {
   "cell_type": "markdown",
   "metadata": {},
   "source": [
    "Para mutar un individuo se pueden alterar sus atributos ligeramente.\n",
    "En el caso de los triángulos que tenemos, los atributos son:\n",
    "\n",
    "1. La posición de los vértices de los triángulos y,\n",
    "1. el color de los triángulos.\n",
    "\n",
    "Las mutaciones deberían tener poca probabilidad de ocurrir.\n",
    "Las mutaciones deberían ocurrir despues de un cruce.\n",
    "Entonces la función de cruce debe devolver un valor booleano\n",
    "que indique si hay que hacer una mutación, o no.\n",
    "\n",
    "El código de abajo esta incompleto.\n",
    "La idea es:\n",
    "\n",
    "1. Calcular la cantidad de triangulos que se van a mutar y tambien\n",
    "   cuantos atributos de dichos triangulos se van a cambiar."
   ]
  },
  {
   "cell_type": "code",
   "execution_count": null,
   "metadata": {},
   "outputs": [],
   "source": [
    "import random\n",
    "\n",
    "N = 10 # Same as last code snippet\n",
    "mutated = True # force mutation\n",
    "\n",
    "if mutated == True:\n",
    "    M = random.randint(0,N) # Amount of triangles to be modified\n",
    "    K = random.randint(0,4) # Amount of attributtes to be modified\n",
    "    for i in range (0,M):\n",
    "        randtriag = son[random.randint(0,N)] # Take a random triangle from son\n",
    "        for i in range (0,K):\n",
    "            k = random.randint(0,4) # pick random attributte\n",
    "            if k != 3: # if a vertex got picked\n",
    "                randtriag[k] = randtriag[k]\n",
    "            else: # if color got picked"
   ]
  },
  {
   "cell_type": "markdown",
   "metadata": {},
   "source": [
    "## Fitness"
   ]
  }
 ],
 "metadata": {
  "kernelspec": {
   "display_name": "Python 3",
   "language": "python",
   "name": "python3"
  },
  "language_info": {
   "codemirror_mode": {
    "name": "ipython",
    "version": 3
   },
   "file_extension": ".py",
   "mimetype": "text/x-python",
   "name": "python",
   "nbconvert_exporter": "python",
   "pygments_lexer": "ipython3",
   "version": "3.8.6"
  }
 },
 "nbformat": 4,
 "nbformat_minor": 4
}
