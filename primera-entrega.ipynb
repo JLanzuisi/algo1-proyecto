{
 "cells": [
  {
   "cell_type": "markdown",
   "metadata": {},
   "source": [
    "# Sobre este archivo\n",
    "\n",
    "La primera enterga pretende ser principalmente exploratoria,\n",
    "quizás nada del código que aparece aquí llegue a la versión final.\n",
    "\n",
    "La idea es investigar como se podrían hacer las funciones principales.\n",
    "Conviene entonces intentar separa el proyecto.\n",
    "Una esquema preliminar es el siguiente.\n",
    "\n",
    "## ¿Qué hay que hacer?\n",
    "\n",
    "Usar algoritmos genéticos para aproximar una imágen usando figuras.\n",
    "Inicialmente estas figuras son triángulos, quizás esto cambie.\n",
    "\n",
    "Se pueden ver los siguientes pasos necesarios:\n",
    "1. Leer la imagén del disco y cargarla en python\n",
    "2. "
   ]
  },
  {
   "cell_type": "code",
   "execution_count": null,
   "metadata": {},
   "outputs": [],
   "source": []
  }
 ],
 "metadata": {
  "kernelspec": {
   "display_name": "Python 3",
   "language": "python",
   "name": "python3"
  },
  "language_info": {
   "codemirror_mode": {
    "name": "ipython",
    "version": 3
   },
   "file_extension": ".py",
   "mimetype": "text/x-python",
   "name": "python",
   "nbconvert_exporter": "python",
   "pygments_lexer": "ipython3",
   "version": "3.8.5"
  }
 },
 "nbformat": 4,
 "nbformat_minor": 4
}
